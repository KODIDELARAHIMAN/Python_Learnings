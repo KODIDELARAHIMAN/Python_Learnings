{
 "cells": [
  {
   "cell_type": "code",
   "execution_count": 14,
   "metadata": {},
   "outputs": [
    {
     "name": "stdout",
     "output_type": "stream",
     "text": [
      "John Don\n"
     ]
    }
   ],
   "source": [
    "# inheritance\n",
    "\n",
    "class A:\n",
    "    def __init__(self,fname, lname):\n",
    "        self.fname = fname\n",
    "        self.lname = lname\n",
    "\n",
    "    def priname(self):\n",
    "        print(self.fname, self.lname)\n",
    "\n",
    "\n",
    "x = A('John','Don')\n",
    "x.priname()\n"
   ]
  },
  {
   "cell_type": "code",
   "execution_count": 16,
   "metadata": {},
   "outputs": [],
   "source": [
    "class B(A):\n",
    "    pass"
   ]
  },
  {
   "cell_type": "code",
   "execution_count": 18,
   "metadata": {},
   "outputs": [
    {
     "name": "stdout",
     "output_type": "stream",
     "text": [
      "Mike Lor\n"
     ]
    }
   ],
   "source": [
    "x = B(\"Mike\",'Lor')\n",
    "x.priname()"
   ]
  },
  {
   "cell_type": "code",
   "execution_count": 19,
   "metadata": {},
   "outputs": [],
   "source": [
    "# __init__() to child class\n",
    "\n",
    "class B(A):\n",
    "    def __init__(self, fname, lname): #when you add __init__ child class will not inherit parent calss __init__() properities.\n",
    "        #child __init__ overrides parents __init__()\n",
    "        #to keep parent __init__() you need to use parent class name\n",
    "        A.__init__(self, fname, lname)\n",
    "        \n",
    "\n",
    "        "
   ]
  },
  {
   "cell_type": "code",
   "execution_count": 21,
   "metadata": {},
   "outputs": [],
   "source": [
    "# you can also call using all functions of parent class using super() \n",
    "\n",
    "class student(A):\n",
    "    def __init__(self, fname, lname):\n",
    "        super().__init__(fname, lname) \n",
    "        self.graduationyear = 210"
   ]
  },
  {
   "cell_type": "code",
   "execution_count": 23,
   "metadata": {},
   "outputs": [],
   "source": [
    "class Stud(A):\n",
    "    def __init__(self, fname, lname, year):\n",
    "        super().__init__(fname, lname)\n",
    "        self.graduationyear = year\n",
    "\n",
    "x = Stud('Mike','Olsen', 210)"
   ]
  },
  {
   "cell_type": "code",
   "execution_count": 26,
   "metadata": {},
   "outputs": [
    {
     "name": "stdout",
     "output_type": "stream",
     "text": [
      "Welcome Mike Olsen to the class of 210\n"
     ]
    }
   ],
   "source": [
    "#adding methods\n",
    "\n",
    "class Stud(A):\n",
    "    def __init__(self, fname, lname, year):\n",
    "        super().__init__(fname, lname)\n",
    "        self.graduationyear = year\n",
    "\n",
    "    def welcome(self):\n",
    "        print('Welcome', self.fname, self.lname, 'to the class of', self.graduationyear)\n",
    "\n",
    "x = Stud('Mike','Olsen', 210)\n",
    "x.welcome()"
   ]
  }
 ],
 "metadata": {
  "kernelspec": {
   "display_name": "Python 3",
   "language": "python",
   "name": "python3"
  },
  "language_info": {
   "codemirror_mode": {
    "name": "ipython",
    "version": 3
   },
   "file_extension": ".py",
   "mimetype": "text/x-python",
   "name": "python",
   "nbconvert_exporter": "python",
   "pygments_lexer": "ipython3",
   "version": "3.12.3"
  }
 },
 "nbformat": 4,
 "nbformat_minor": 2
}
