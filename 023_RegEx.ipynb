{
 "cells": [
  {
   "cell_type": "code",
   "execution_count": 5,
   "metadata": {},
   "outputs": [
    {
     "name": "stdout",
     "output_type": "stream",
     "text": [
      "Match Found\n"
     ]
    }
   ],
   "source": [
    "# Regular Expression , is a sequence of character that forms a search pattern.\n",
    "#RegRx can be used to check if a string contains the specified search pattern.\n",
    "\n",
    "#RegEx Module\n",
    "\n",
    "#Python has build in package called re, which can be used to work with regular expressions.\n",
    "\n",
    "import re\n",
    "\n",
    "txt = 'The rain in spain'\n",
    "x = re.search('^The.*spain$',txt)\n",
    "\n",
    "if x :\n",
    "    print('Match Found')\n",
    "else:\n",
    "    print('No Match')"
   ]
  },
  {
   "cell_type": "code",
   "execution_count": 8,
   "metadata": {},
   "outputs": [
    {
     "name": "stdout",
     "output_type": "stream",
     "text": [
      "['ai', 'ai']\n"
     ]
    }
   ],
   "source": [
    "\n",
    "print(re.findall('ai',txt))#Print a list of all matches:"
   ]
  },
  {
   "cell_type": "code",
   "execution_count": 27,
   "metadata": {},
   "outputs": [
    {
     "name": "stdout",
     "output_type": "stream",
     "text": [
      " '                ', she said,  hough ! we knew it to not be true.\n"
     ]
    }
   ],
   "source": [
    "\n",
    "string = \" 'I AM NOT YELLING', she said, Though ! we knew it to not be true.\"\n",
    "\n",
    "new = re.sub('[A-Z]',' ', string) #removes all capitals\n",
    "print(new)\n"
   ]
  },
  {
   "cell_type": "code",
   "execution_count": 28,
   "metadata": {},
   "outputs": [
    {
     "name": "stdout",
     "output_type": "stream",
     "text": [
      " 'I AM NOT YELLING',         , T      !                          .\n"
     ]
    }
   ],
   "source": [
    "import re\n",
    "\n",
    "new2 = re.sub('[a-z]',' ',string)\n",
    "print(new2)"
   ]
  },
  {
   "cell_type": "code",
   "execution_count": 42,
   "metadata": {},
   "outputs": [
    {
     "name": "stdout",
     "output_type": "stream",
     "text": [
      "  I AM NOT YELLING             T                                  \n"
     ]
    }
   ],
   "source": [
    "new3 = re.sub(\"[a-z.!,']\",' ',string)\n",
    "print(new3)"
   ]
  },
  {
   "cell_type": "code",
   "execution_count": null,
   "metadata": {},
   "outputs": [],
   "source": [
    "##please go though more function in regex which are important"
   ]
  }
 ],
 "metadata": {
  "kernelspec": {
   "display_name": "Python 3",
   "language": "python",
   "name": "python3"
  },
  "language_info": {
   "codemirror_mode": {
    "name": "ipython",
    "version": 3
   },
   "file_extension": ".py",
   "mimetype": "text/x-python",
   "name": "python",
   "nbconvert_exporter": "python",
   "pygments_lexer": "ipython3",
   "version": "3.12.3"
  }
 },
 "nbformat": 4,
 "nbformat_minor": 2
}
