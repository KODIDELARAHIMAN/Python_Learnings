{
 "cells": [
  {
   "cell_type": "code",
   "execution_count": 2,
   "metadata": {},
   "outputs": [
    {
     "name": "stdout",
     "output_type": "stream",
     "text": [
      "('apple', 'banana', 'cherry')\n",
      "<class 'tuple'>\n"
     ]
    }
   ],
   "source": [
    "tuple = ('apple','banana','cherry')\n",
    "print(tuple)\n",
    "print(type(tuple))"
   ]
  },
  {
   "cell_type": "code",
   "execution_count": 3,
   "metadata": {},
   "outputs": [],
   "source": [
    "#tuples are used to multiple items in sinle variable.\n",
    "#tuple is a collection which is ordered and unchangeable\n",
    "\n",
    "#tuples are represented in round brackets."
   ]
  },
  {
   "cell_type": "code",
   "execution_count": 4,
   "metadata": {},
   "outputs": [],
   "source": [
    "#tuples are ordered, unchaneable and allow duplicate values.\n",
    "\n",
    "# tuples items follows idenx methodolgy."
   ]
  },
  {
   "cell_type": "code",
   "execution_count": 6,
   "metadata": {},
   "outputs": [
    {
     "name": "stdout",
     "output_type": "stream",
     "text": [
      "3\n"
     ]
    }
   ],
   "source": [
    "print(len(tuple))"
   ]
  },
  {
   "cell_type": "code",
   "execution_count": 8,
   "metadata": {},
   "outputs": [
    {
     "name": "stdout",
     "output_type": "stream",
     "text": [
      "('item1',)\n",
      "1 <class 'tuple'>\n"
     ]
    }
   ],
   "source": [
    "# if your tuple contains one item. then after the item a comma should be placed. else python will not consider it as tuple\n",
    "\n",
    "\n",
    "tuple2 = ('item1',)\n",
    "print(tuple2)\n",
    "print(len(tuple2),type(tuple2))"
   ]
  },
  {
   "cell_type": "code",
   "execution_count": 10,
   "metadata": {},
   "outputs": [
    {
     "name": "stdout",
     "output_type": "stream",
     "text": [
      "('letter', 2, '2.5', True)\n"
     ]
    }
   ],
   "source": [
    "# tuples can be any datatype\n",
    "\n",
    "tuple3 = ('letter',2,'2.5',True)\n",
    "print(tuple3)"
   ]
  },
  {
   "cell_type": "code",
   "execution_count": 17,
   "metadata": {},
   "outputs": [
    {
     "ename": "TypeError",
     "evalue": "'tuple' object is not callable",
     "output_type": "error",
     "traceback": [
      "\u001b[31m---------------------------------------------------------------------------\u001b[39m",
      "\u001b[31mTypeError\u001b[39m                                 Traceback (most recent call last)",
      "\u001b[36mCell\u001b[39m\u001b[36m \u001b[39m\u001b[32mIn[17]\u001b[39m\u001b[32m, line 3\u001b[39m\n\u001b[32m      1\u001b[39m \u001b[38;5;66;03m#using tuple constructor also we can represet tuple\u001b[39;00m\n\u001b[32m----> \u001b[39m\u001b[32m3\u001b[39m tuple4 = \u001b[38;5;28;43mtuple\u001b[39;49m\u001b[43m(\u001b[49m\u001b[43m(\u001b[49m\u001b[33;43m\"\u001b[39;49m\u001b[33;43mcastell\u001b[39;49m\u001b[33;43m\"\u001b[39;49m\u001b[43m,\u001b[49m\u001b[33;43m\"\u001b[39;49m\u001b[33;43mcamel\u001b[39;49m\u001b[33;43m\"\u001b[39;49m\u001b[43m,\u001b[49m\u001b[33;43m\"\u001b[39;49m\u001b[33;43mcat\u001b[39;49m\u001b[33;43m\"\u001b[39;49m\u001b[43m)\u001b[49m\u001b[43m)\u001b[49m \u001b[38;5;66;03m##this is works in normla python but in jupyter python this is not working. need to check why.\u001b[39;00m\n\u001b[32m      4\u001b[39m \u001b[38;5;28mprint\u001b[39m(tuple4)\n",
      "\u001b[31mTypeError\u001b[39m: 'tuple' object is not callable"
     ]
    }
   ],
   "source": [
    "#using tuple constructor also we can represet tuple\n",
    "\n",
    "tuple4 = tuple((\"castell\",\"camel\",\"cat\")) ##this is works in normla python but in jupyter python this is not working. need to check why.\n",
    "print(tuple4)"
   ]
  },
  {
   "cell_type": "code",
   "execution_count": 19,
   "metadata": {},
   "outputs": [
    {
     "name": "stdout",
     "output_type": "stream",
     "text": [
      "banana\n"
     ]
    }
   ],
   "source": [
    "print(tuple[1])"
   ]
  },
  {
   "cell_type": "code",
   "execution_count": 21,
   "metadata": {},
   "outputs": [
    {
     "name": "stdout",
     "output_type": "stream",
     "text": [
      "cherry\n"
     ]
    }
   ],
   "source": [
    "print(tuple[-1])"
   ]
  },
  {
   "cell_type": "code",
   "execution_count": 26,
   "metadata": {},
   "outputs": [
    {
     "name": "stdout",
     "output_type": "stream",
     "text": [
      "<class 'tuple'> ('ant', 'bear', 'cat', 'dog', 'elephant')\n",
      "bear\n",
      "['ant', 'bison', 'cat', 'dog', 'elephant']\n"
     ]
    }
   ],
   "source": [
    "#once tuple is created we cannot change the items in tuple. \n",
    "\n",
    "# but we can convert the tuple into list and change the items insie \n",
    "\n",
    "x = ('ant','bear','cat','dog','elephant')\n",
    "print(type(x), x)\n",
    "\n",
    "print(x[1])\n",
    "#converting tuple to list\n",
    "\n",
    "listy = list(x)\n",
    "listy[1] = 'bison'\n",
    "print(listy) ##now we can add, append, anything can be done after converting tuple to list"
   ]
  },
  {
   "cell_type": "code",
   "execution_count": 30,
   "metadata": {},
   "outputs": [
    {
     "name": "stdout",
     "output_type": "stream",
     "text": [
      "('elizabeth olsen', 'emmy rossum', 'melena', 'ana de armes', 'jennifer colony')\n",
      "5\n",
      "('elizabeth olsen', 'emmy rossum', 'melena', 'ana de armes', 'jennifer colony', 'katherine langford')\n",
      "6\n"
     ]
    }
   ],
   "source": [
    "tuple5 = ('elizabeth olsen','emmy rossum','melena','ana de armes','jennifer colony')\n",
    "print(tuple5)\n",
    "print(len(tuple5))\n",
    "### usually once tuple is defined / created, we cant add any items to the tupled list. \n",
    "# python does not have built functions to add a new item \n",
    "#but python do allow based on below menthod to add any new items to tuple\n",
    "\n",
    "tup2 = (\"katherine langford\",) #when creating a tuple with one item, rememeber to include comma after the ite, other it will not remember as tuple\n",
    "\n",
    "tuple5 += tup2 #this allows to add a tuple to another already existed tuple\n",
    "print(tuple5)\n",
    "print(len(tuple5))\n"
   ]
  },
  {
   "cell_type": "code",
   "execution_count": 33,
   "metadata": {},
   "outputs": [
    {
     "ename": "NameError",
     "evalue": "name 'tuple5' is not defined",
     "output_type": "error",
     "traceback": [
      "\u001b[31m---------------------------------------------------------------------------\u001b[39m",
      "\u001b[31mNameError\u001b[39m                                 Traceback (most recent call last)",
      "\u001b[36mCell\u001b[39m\u001b[36m \u001b[39m\u001b[32mIn[33]\u001b[39m\u001b[32m, line 5\u001b[39m\n\u001b[32m      1\u001b[39m \u001b[38;5;66;03m# usuall we cannot remove item from tuple. \u001b[39;00m\n\u001b[32m      2\u001b[39m \n\u001b[32m      3\u001b[39m \u001b[38;5;66;03m# but we can delete entire tuple using 'del' keyword.\u001b[39;00m\n\u001b[32m----> \u001b[39m\u001b[32m5\u001b[39m \u001b[38;5;28;01mdel\u001b[39;00m \u001b[43mtuple5\u001b[49m\n\u001b[32m      6\u001b[39m \u001b[38;5;28mprint\u001b[39m(tuple5)\n",
      "\u001b[31mNameError\u001b[39m: name 'tuple5' is not defined"
     ]
    }
   ],
   "source": [
    "# usuall we cannot remove item from tuple. \n",
    "\n",
    "# but we can delete entire tuple using 'del' keyword.\n",
    "\n",
    "del tuple5\n",
    "print(tuple5)"
   ]
  },
  {
   "cell_type": "code",
   "execution_count": null,
   "metadata": {},
   "outputs": [
    {
     "name": "stdout",
     "output_type": "stream",
     "text": [
      "apple\n",
      "banana\n",
      "cherry\n",
      "\n",
      "\n",
      "\n",
      "\n",
      "apple\n",
      "banana\n",
      "['cherry', 'strawberry', 'raspberry']\n"
     ]
    }
   ],
   "source": [
    "##Unpacking Tuple\n",
    "\n",
    "#when we create a tuple, we normlaly assin values to it. this is called packing a tuple\n",
    "\n",
    "##pacing\n",
    "\n",
    "fruits = ('apple','banana','cherry')\n",
    "\n",
    "\n",
    "#but in python, we are asow lloed to extract the values back into variables. this is called unpacking.\n",
    "\n",
    "(green, yellow, red) = fruits  #unpacking\n",
    "print(green) #gives apple\n",
    "print(yellow)\n",
    "print(red)\n",
    "\n",
    "\n",
    "#using asterisk\n",
    "# if the number os variables is less than number of values, you can add a * to the varaible name and the values will be assigned to the varailbe as a list.append\n",
    "print(\"\\n\")#provides an empty free line\n",
    "print(\"\\n\")\n",
    "fruits2 = ('apple','banana','cherry','strawberry','raspberry')\n",
    "(green,yellow,*red) = fruits2\n",
    "print(green)\n",
    "print(yellow)\n",
    "print(red)"
   ]
  },
  {
   "cell_type": "code",
   "execution_count": 51,
   "metadata": {},
   "outputs": [
    {
     "name": "stdout",
     "output_type": "stream",
     "text": [
      "antenna\n",
      "bench\n",
      "computer\n"
     ]
    }
   ],
   "source": [
    "#loops in tuple\n",
    "\n",
    "# for loop\n",
    "\n",
    "tuple6 = ('antenna','bench','computer')\n",
    "for x in tuple6:\n",
    "    print(x)\n",
    "    "
   ]
  },
  {
   "cell_type": "code",
   "execution_count": 57,
   "metadata": {},
   "outputs": [
    {
     "name": "stdout",
     "output_type": "stream",
     "text": [
      "antenna 0\n",
      "bench 1\n",
      "computer 2\n"
     ]
    }
   ],
   "source": [
    "#loop through index numbers\n",
    "\n",
    "for i in range(len(tuple6)):\n",
    "    print(tuple6[i],i)\n"
   ]
  },
  {
   "cell_type": "code",
   "execution_count": 61,
   "metadata": {},
   "outputs": [
    {
     "name": "stdout",
     "output_type": "stream",
     "text": [
      "antenna 0\n",
      "bench 1\n",
      "computer 2\n"
     ]
    }
   ],
   "source": [
    "#while loop\n",
    "\n",
    "i = 0\n",
    "while i < len(tuple6):\n",
    "    print(tuple6[i],i)\n",
    "    i = i + 1"
   ]
  },
  {
   "cell_type": "code",
   "execution_count": null,
   "metadata": {},
   "outputs": [
    {
     "name": "stdout",
     "output_type": "stream",
     "text": [
      "('apple', 'banana', 'cherry')\n",
      "('item1',)\n",
      "('apple', 'banana', 'cherry', 'item1')\n",
      "('apple', 'banana', 'cherry', 'apple', 'banana', 'cherry')\n"
     ]
    }
   ],
   "source": [
    "print(tuple)\n",
    "print(tuple2)\n",
    "tuple8 = tuple + tuple2\n",
    "print(tuple8)\n",
    "\n",
    "tuple7 = fruits * 2\n",
    "print(tuple7)\n",
    "\n",
    "\n",
    "# tuple has only two methods\n",
    "\n",
    "# count()\n",
    "#index()"
   ]
  }
 ],
 "metadata": {
  "kernelspec": {
   "display_name": "Python 3",
   "language": "python",
   "name": "python3"
  },
  "language_info": {
   "codemirror_mode": {
    "name": "ipython",
    "version": 3
   },
   "file_extension": ".py",
   "mimetype": "text/x-python",
   "name": "python",
   "nbconvert_exporter": "python",
   "pygments_lexer": "ipython3",
   "version": "3.12.3"
  }
 },
 "nbformat": 4,
 "nbformat_minor": 2
}
