{
 "cells": [
  {
   "cell_type": "code",
   "execution_count": 3,
   "metadata": {},
   "outputs": [
    {
     "name": "stdout",
     "output_type": "stream",
     "text": [
      "<class 'int'>\n",
      "<class 'complex'>\n",
      "<class 'float'>\n"
     ]
    }
   ],
   "source": [
    "### Python numbers are \n",
    "#       INT\n",
    "#       FLOAT\n",
    "#       COMPLEX\n",
    "\n",
    "x = 1  #int\n",
    "y = 2.8 #float\n",
    "z = 3j #complex\n",
    "\n",
    "# to verify \n",
    "print(type(x))\n",
    "print(type(z))\n",
    "print(type(y))"
   ]
  },
  {
   "cell_type": "code",
   "execution_count": 7,
   "metadata": {},
   "outputs": [
    {
     "name": "stdout",
     "output_type": "stream",
     "text": [
      "<class 'int'> :  2\n",
      "<class 'float'> :  3.2\n",
      "<class 'float'> :  94.0\n",
      "<class 'int'> :  36\n",
      "<class 'int'> :  94\n",
      "<class 'float'> :  36.0\n"
     ]
    }
   ],
   "source": [
    "a = 2\n",
    "b = 3.2\n",
    "print(type(a), ': ', a)\n",
    "print(type(b),': ', b)\n",
    "\n",
    "#we can convert int to float and float to int. \n",
    "j = float(94)  ##using casting \n",
    "k = int(36.0)  ## using casting\n",
    "\n",
    "print(type(j), ': ', j)\n",
    "print(type(k),': ',k)\n",
    "\n",
    "l = int(j)\n",
    "m = float(k)\n",
    "\n",
    "print(type(l),': ',l)\n",
    "print(type(m),': ',m)\n",
    "\n",
    "# but we cannot convert complex to other numeric datatypes."
   ]
  },
  {
   "cell_type": "code",
   "execution_count": 10,
   "metadata": {},
   "outputs": [
    {
     "name": "stdout",
     "output_type": "stream",
     "text": [
      "17\n"
     ]
    }
   ],
   "source": [
    "#python does not have a random() function to make a random number, but python has a built in modul caled random that can be used to random numbers:\n",
    "\n",
    "import random\n",
    "print(random.randrange(1, 20))"
   ]
  },
  {
   "cell_type": "code",
   "execution_count": null,
   "metadata": {},
   "outputs": [],
   "source": []
  }
 ],
 "metadata": {
  "kernelspec": {
   "display_name": "Python 3",
   "language": "python",
   "name": "python3"
  },
  "language_info": {
   "codemirror_mode": {
    "name": "ipython",
    "version": 3
   },
   "file_extension": ".py",
   "mimetype": "text/x-python",
   "name": "python",
   "nbconvert_exporter": "python",
   "pygments_lexer": "ipython3",
   "version": "3.12.3"
  }
 },
 "nbformat": 4,
 "nbformat_minor": 2
}
