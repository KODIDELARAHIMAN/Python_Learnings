{
 "cells": [
  {
   "cell_type": "code",
   "execution_count": 1,
   "metadata": {},
   "outputs": [],
   "source": [
    "# a function is a block of code which only runs when it is called.\n",
    "\n",
    "# you can pass data, known as parameter to a function/\n",
    "\n",
    "# a function can return data as result."
   ]
  },
  {
   "cell_type": "code",
   "execution_count": 2,
   "metadata": {},
   "outputs": [],
   "source": [
    "#creating a function\n",
    "\n",
    "def fun1():\n",
    "    print(\"This is function one\")"
   ]
  },
  {
   "cell_type": "code",
   "execution_count": 4,
   "metadata": {},
   "outputs": [
    {
     "name": "stdout",
     "output_type": "stream",
     "text": [
      "This is function one\n"
     ]
    }
   ],
   "source": [
    "#calling function\n",
    "fun1() "
   ]
  },
  {
   "cell_type": "code",
   "execution_count": 7,
   "metadata": {},
   "outputs": [
    {
     "name": "stdout",
     "output_type": "stream",
     "text": [
      "Car is a 4 wheeler\n",
      "Sumo is a 4 wheeler\n"
     ]
    }
   ],
   "source": [
    "#arguments \n",
    "\n",
    "#information passed to functions are known as arguments\n",
    "\n",
    "#arguments are specified after the function name, inside the parasentheses. you can add as many arguments as you want, just separae them with comma.\n",
    "\n",
    "def four_wheeler(vehicle):\n",
    "    print(vehicle, 'is a 4 wheeler')\n",
    "    \n",
    "four_wheeler('Car')\n",
    "four_wheeler('Sumo')  \n"
   ]
  },
  {
   "cell_type": "code",
   "execution_count": 9,
   "metadata": {},
   "outputs": [
    {
     "ename": "TypeError",
     "evalue": "fun3() missing 1 required positional argument: 'lname'",
     "output_type": "error",
     "traceback": [
      "\u001b[31m---------------------------------------------------------------------------\u001b[39m",
      "\u001b[31mTypeError\u001b[39m                                 Traceback (most recent call last)",
      "\u001b[36mCell\u001b[39m\u001b[36m \u001b[39m\u001b[32mIn[9]\u001b[39m\u001b[32m, line 11\u001b[39m\n\u001b[32m      8\u001b[39m \u001b[38;5;28;01mdef\u001b[39;00m\u001b[38;5;250m \u001b[39m\u001b[34mfun3\u001b[39m(fname, lname):\n\u001b[32m      9\u001b[39m     \u001b[38;5;28mprint\u001b[39m(fname, \u001b[33m'\u001b[39m\u001b[33m \u001b[39m\u001b[33m'\u001b[39m, lname)\n\u001b[32m---> \u001b[39m\u001b[32m11\u001b[39m \u001b[43mfun3\u001b[49m\u001b[43m(\u001b[49m\u001b[33;43m'\u001b[39;49m\u001b[33;43mkrmn\u001b[39;49m\u001b[33;43m'\u001b[39;49m\u001b[43m)\u001b[49m\n",
      "\u001b[31mTypeError\u001b[39m: fun3() missing 1 required positional argument: 'lname'"
     ]
    }
   ],
   "source": [
    "#parameter and arguments are same thing.\n",
    "\n",
    "# a parameter is the variable listed inside the paranthesis in function definition.\n",
    "# an argument is the value that is sent to function when it is called.\n",
    "\n",
    "# a function must be called with with same no fo arguments. meaning if your function expects 2 arguments, you have to call the function with 2 arguments, not more and not less\n",
    "\n",
    "def fun3(fname, lname):\n",
    "    print(fname, ' ', lname)\n",
    "    \n",
    "fun3('krmn')"
   ]
  },
  {
   "cell_type": "code",
   "execution_count": null,
   "metadata": {},
   "outputs": [
    {
     "name": "stdout",
     "output_type": "stream",
     "text": [
      "krmn 1 2 3 4\n"
     ]
    }
   ],
   "source": [
    "#to over come above issue\n",
    "#you can keep asterisk infront of an parameter inside function defining and you can provide as many as arguments while calling functions.\n",
    "#this is known as arbitrary arguments . short form is *args\n",
    "def fun4(name, *no):\n",
    "    print(name, ' ', no)\n",
    "\n",
    "print('krmn',1,2,3,4)"
   ]
  },
  {
   "cell_type": "code",
   "execution_count": 14,
   "metadata": {},
   "outputs": [
    {
     "name": "stdout",
     "output_type": "stream",
     "text": [
      "The yougest child is Aparichithudu\n"
     ]
    }
   ],
   "source": [
    "#keyword arguemtns: (short form kwargs)\n",
    "\n",
    "def fun5(child1, child2, child3):\n",
    "    print(\"The yougest child is\", child3)\n",
    "\n",
    "fun5(child1 = 'Ramu', child2 = 'Remo', child3 = 'Aparichithudu')\n"
   ]
  },
  {
   "cell_type": "code",
   "execution_count": 16,
   "metadata": {},
   "outputs": [
    {
     "name": "stdout",
     "output_type": "stream",
     "text": [
      "his last name is  Srinivas\n"
     ]
    }
   ],
   "source": [
    "def fun6(**kid):\n",
    "    print('his last name is ',kid['lname'])\n",
    "\n",
    "fun6(fname='Avasarala', lname='Srinivas')"
   ]
  },
  {
   "cell_type": "code",
   "execution_count": 20,
   "metadata": {},
   "outputs": [
    {
     "name": "stdout",
     "output_type": "stream",
     "text": [
      "No 1 movie is  Dangal\n",
      "No 1 movie is  KGF2\n",
      "No 1 movie is  Bahubali\n",
      "No 1 movie is  Jailer\n",
      "No 1 movie is  Manjummal Boys\n"
     ]
    }
   ],
   "source": [
    "#default parameter value\n",
    "\n",
    "# when you provide a default parameter value. \n",
    "\n",
    "# when you call function without any arguemtn passed. it takes defaul keyword/parameter \n",
    "\n",
    "def fun7(no1_movie='Bahubali'):\n",
    "    print('No 1 movie is ', no1_movie)\n",
    "\n",
    "fun7('Dangal')\n",
    "fun7('KGF2')\n",
    "fun7()\n",
    "fun7('Jailer')\n",
    "fun7('Manjummal Boys')"
   ]
  },
  {
   "cell_type": "code",
   "execution_count": 22,
   "metadata": {},
   "outputs": [
    {
     "name": "stdout",
     "output_type": "stream",
     "text": [
      "poori\n",
      "dosa\n",
      "chapathi\n"
     ]
    }
   ],
   "source": [
    "#passing list as argument\n",
    "\n",
    "def fun8(food):\n",
    "    for x in food:\n",
    "        print(x)\n",
    "\n",
    "tiffins = [\n",
    "    'poori','dosa','chapathi'\n",
    "]\n",
    "\n",
    "fun8(tiffins)"
   ]
  },
  {
   "cell_type": "code",
   "execution_count": 23,
   "metadata": {},
   "outputs": [
    {
     "name": "stdout",
     "output_type": "stream",
     "text": [
      "20\n"
     ]
    }
   ],
   "source": [
    "#return values in function\n",
    "\n",
    "def fun9(x):\n",
    "    return 5 *x\n",
    "\n",
    "print(fun9(4))"
   ]
  },
  {
   "cell_type": "code",
   "execution_count": 24,
   "metadata": {},
   "outputs": [],
   "source": [
    "#pass statement\n",
    "\n",
    "# if your function does not have any condidtion / content. \n",
    "# you should provide a pass keyword\n",
    "\n",
    "def myfunction():\n",
    "    pass\n",
    "\n"
   ]
  },
  {
   "cell_type": "code",
   "execution_count": 26,
   "metadata": {},
   "outputs": [
    {
     "ename": "TypeError",
     "evalue": "my_fun() got some positional-only arguments passed as keyword arguments: 'x'",
     "output_type": "error",
     "traceback": [
      "\u001b[31m---------------------------------------------------------------------------\u001b[39m",
      "\u001b[31mTypeError\u001b[39m                                 Traceback (most recent call last)",
      "\u001b[36mCell\u001b[39m\u001b[36m \u001b[39m\u001b[32mIn[26]\u001b[39m\u001b[32m, line 4\u001b[39m\n\u001b[32m      1\u001b[39m \u001b[38;5;28;01mdef\u001b[39;00m\u001b[38;5;250m \u001b[39m\u001b[34mmy_fun\u001b[39m(x,/):\n\u001b[32m      2\u001b[39m     \u001b[38;5;28mprint\u001b[39m(x)\n\u001b[32m----> \u001b[39m\u001b[32m4\u001b[39m \u001b[43mmy_fun\u001b[49m\u001b[43m(\u001b[49m\u001b[43mx\u001b[49m\u001b[43m=\u001b[49m\u001b[32;43m3\u001b[39;49m\u001b[43m)\u001b[49m \u001b[38;5;66;03m## this will not allow to execution because this is keyword arguemtn\u001b[39;00m\n\u001b[32m      6\u001b[39m \u001b[38;5;66;03m# and above code has ,/ after the parameter which treates code as positional arguments\u001b[39;00m\n",
      "\u001b[31mTypeError\u001b[39m: my_fun() got some positional-only arguments passed as keyword arguments: 'x'"
     ]
    }
   ],
   "source": [
    "def my_fun(x,/):\n",
    "    print(x)\n",
    "\n",
    "my_fun(x=3) ## this will not allow to execution because this is keyword arguemtn\n",
    "\n",
    "# and above code has ,/ after the parameter which treates code as positional arguments\n"
   ]
  },
  {
   "cell_type": "code",
   "execution_count": 28,
   "metadata": {},
   "outputs": [
    {
     "name": "stdout",
     "output_type": "stream",
     "text": [
      "4\n"
     ]
    }
   ],
   "source": [
    "def my_fun2(x):\n",
    "  print(x)\n",
    "\n",
    "my_fun2(x=4) # without ,/ this is treated as  keyword argument\n"
   ]
  },
  {
   "cell_type": "code",
   "execution_count": 30,
   "metadata": {},
   "outputs": [
    {
     "ename": "TypeError",
     "evalue": "my_fun3() takes 0 positional arguments but 1 was given",
     "output_type": "error",
     "traceback": [
      "\u001b[31m---------------------------------------------------------------------------\u001b[39m",
      "\u001b[31mTypeError\u001b[39m                                 Traceback (most recent call last)",
      "\u001b[36mCell\u001b[39m\u001b[36m \u001b[39m\u001b[32mIn[30]\u001b[39m\u001b[32m, line 6\u001b[39m\n\u001b[32m      3\u001b[39m \u001b[38;5;28;01mdef\u001b[39;00m\u001b[38;5;250m \u001b[39m\u001b[34mmy_fun3\u001b[39m(*, x):\n\u001b[32m      4\u001b[39m   \u001b[38;5;28mprint\u001b[39m(x)\n\u001b[32m----> \u001b[39m\u001b[32m6\u001b[39m \u001b[43mmy_fun3\u001b[49m\u001b[43m(\u001b[49m\u001b[32;43m5\u001b[39;49m\u001b[43m)\u001b[49m \u001b[38;5;66;03m#this accepts only keyword arguments where we did not provided any key. so this will fail.\u001b[39;00m\n",
      "\u001b[31mTypeError\u001b[39m: my_fun3() takes 0 positional arguments but 1 was given"
     ]
    }
   ],
   "source": [
    "#keyword-only argumetns\n",
    "\n",
    "def my_fun3(*, x):\n",
    "  print(x)\n",
    "\n",
    "my_fun3(5) #this accepts only keyword arguments where we did not provided any key. so this will fail.\n"
   ]
  },
  {
   "cell_type": "code",
   "execution_count": 31,
   "metadata": {},
   "outputs": [
    {
     "name": "stdout",
     "output_type": "stream",
     "text": [
      "Shameless\n"
     ]
    }
   ],
   "source": [
    "def my_fun4(*,y):\n",
    "  print(y)\n",
    "\n",
    "my_fun4(y='Shameless')"
   ]
  }
 ],
 "metadata": {
  "kernelspec": {
   "display_name": "Python 3",
   "language": "python",
   "name": "python3"
  },
  "language_info": {
   "codemirror_mode": {
    "name": "ipython",
    "version": 3
   },
   "file_extension": ".py",
   "mimetype": "text/x-python",
   "name": "python",
   "nbconvert_exporter": "python",
   "pygments_lexer": "ipython3",
   "version": "3.12.3"
  }
 },
 "nbformat": 4,
 "nbformat_minor": 2
}
