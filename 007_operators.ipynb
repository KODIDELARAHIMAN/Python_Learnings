{
 "cells": [
  {
   "cell_type": "code",
   "execution_count": 2,
   "metadata": {},
   "outputs": [
    {
     "name": "stdout",
     "output_type": "stream",
     "text": [
      "3\n"
     ]
    }
   ],
   "source": [
    "# operators are used to perform operations on variables.\n",
    "\n",
    "print(1+2)"
   ]
  },
  {
   "cell_type": "code",
   "execution_count": 6,
   "metadata": {},
   "outputs": [
    {
     "name": "stdout",
     "output_type": "stream",
     "text": [
      "5\n",
      "6\n",
      "9\n",
      "4.0\n",
      "0\n",
      "4\n"
     ]
    }
   ],
   "source": [
    "# Arithmetic Operator\n",
    "print(2+3)\n",
    "print(10-4)\n",
    "print(3*3)\n",
    "print(16/4)\n",
    "print(100%25)\n",
    "print(2**2)\n"
   ]
  },
  {
   "cell_type": "code",
   "execution_count": 17,
   "metadata": {},
   "outputs": [
    {
     "name": "stdout",
     "output_type": "stream",
     "text": [
      "5\n",
      "8\n",
      "4\n",
      "12\n",
      "1.7142857142857142\n",
      "219.19571517573905\n"
     ]
    }
   ],
   "source": [
    "# assignment operators\n",
    "\n",
    "x = 5\n",
    "print(x)\n",
    "x += 3  #+adds previous value of 5 to current value x=3 and returns as 8\n",
    "print(x)\n",
    "\n",
    "x -= 4\n",
    "print(x)\n",
    "\n",
    "x *=3 \n",
    "print(x)\n",
    "\n",
    "x /= 7\n",
    "print(x)\n",
    "\n",
    "x **= 10\n",
    "print(x)\n",
    "\n",
    "# many more\n"
   ]
  },
  {
   "cell_type": "code",
   "execution_count": 24,
   "metadata": {},
   "outputs": [
    {
     "name": "stdout",
     "output_type": "stream",
     "text": [
      "True\n",
      "False\n",
      "True\n",
      "True\n",
      "True\n"
     ]
    }
   ],
   "source": [
    "# comparison operators\n",
    "\n",
    "#== \n",
    "\n",
    "a = 1\n",
    "b = 1\n",
    "a == b\n",
    "print(a == b )\n",
    "\n",
    "c = 2\n",
    "print(a == c)\n",
    "\n",
    "print (a != c) \n",
    "\n",
    "print(c > a)\n",
    "print( a < c)"
   ]
  },
  {
   "cell_type": "code",
   "execution_count": null,
   "metadata": {},
   "outputs": [
    {
     "name": "stdout",
     "output_type": "stream",
     "text": [
      "True\n"
     ]
    }
   ],
   "source": [
    "a = 12\n",
    "b = 12\n",
    "print(a <= b)\n",
    "\n",
    "# same works for <= "
   ]
  },
  {
   "cell_type": "code",
   "execution_count": 34,
   "metadata": {},
   "outputs": [
    {
     "name": "stdout",
     "output_type": "stream",
     "text": [
      "True\n",
      "True\n",
      "True\n"
     ]
    }
   ],
   "source": [
    "### logical operators\n",
    "\n",
    "# and, or, not\n",
    "\n",
    "a = 0\n",
    "b = 1\n",
    "\n",
    "print (a > -1 and b <= 2)  # both statemts should be true then only we will et true\n",
    "\n",
    "print( a > -1 or b > 13)  # any one statemnt cane be true to get true\n",
    "\n",
    "print( not(a == b)) # return false if it is true.. returns true if it is false\n",
    "\n"
   ]
  },
  {
   "cell_type": "code",
   "execution_count": 36,
   "metadata": {},
   "outputs": [],
   "source": [
    "## we have many more operators like \n",
    "\n",
    "# bitwise operators like & (AND), | (OR), ^(XOR), ~(NOT) \n",
    "\n",
    "## please go thourgh web for more operators \n",
    "\n"
   ]
  }
 ],
 "metadata": {
  "kernelspec": {
   "display_name": "Python 3",
   "language": "python",
   "name": "python3"
  },
  "language_info": {
   "codemirror_mode": {
    "name": "ipython",
    "version": 3
   },
   "file_extension": ".py",
   "mimetype": "text/x-python",
   "name": "python",
   "nbconvert_exporter": "python",
   "pygments_lexer": "ipython3",
   "version": "3.12.3"
  }
 },
 "nbformat": 4,
 "nbformat_minor": 2
}
