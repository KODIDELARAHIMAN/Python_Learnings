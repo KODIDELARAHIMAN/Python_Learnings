{
 "cells": [
  {
   "cell_type": "code",
   "execution_count": 2,
   "metadata": {},
   "outputs": [
    {
     "ename": "TypeError",
     "evalue": "can only concatenate str (not \"int\") to str",
     "output_type": "error",
     "traceback": [
      "\u001b[31m---------------------------------------------------------------------------\u001b[39m",
      "\u001b[31mTypeError\u001b[39m                                 Traceback (most recent call last)",
      "\u001b[36mCell\u001b[39m\u001b[36m \u001b[39m\u001b[32mIn[2]\u001b[39m\u001b[32m, line 6\u001b[39m\n\u001b[32m      1\u001b[39m \u001b[38;5;66;03m# actually we can't combine string and numbers\u001b[39;00m\n\u001b[32m      2\u001b[39m \n\u001b[32m      3\u001b[39m \u001b[38;5;66;03m# but we can overcome the scenario by using python built function format()\u001b[39;00m\n\u001b[32m      5\u001b[39m age = \u001b[32m36\u001b[39m\n\u001b[32m----> \u001b[39m\u001b[32m6\u001b[39m txt = \u001b[33;43m'\u001b[39;49m\u001b[33;43mThis is \u001b[39;49m\u001b[33;43m'\u001b[39;49m\u001b[43m \u001b[49m\u001b[43m+\u001b[49m\u001b[43m \u001b[49m\u001b[43mage\u001b[49m \u001b[38;5;66;03m### you will receive error\u001b[39;00m\n\u001b[32m      7\u001b[39m \u001b[38;5;28mprint\u001b[39m(txt)\n",
      "\u001b[31mTypeError\u001b[39m: can only concatenate str (not \"int\") to str"
     ]
    }
   ],
   "source": [
    "# actually we can't combine string and numbers\n",
    "\n",
    "# but we can overcome the scenario by using python built function format()\n",
    "\n",
    "age = 36\n",
    "txt = 'This is ' + age ### you will receive error\n",
    "print(txt)"
   ]
  },
  {
   "cell_type": "code",
   "execution_count": 5,
   "metadata": {},
   "outputs": [
    {
     "name": "stdout",
     "output_type": "stream",
     "text": [
      "This is  36\n"
     ]
    }
   ],
   "source": [
    "# to over come above scenario we use format()\n",
    "\n",
    "# F string was introduced in python 3.6 and put an f infront of string  and add curly {} placeholder for other type of varaible/operator while combining\n",
    "\n",
    "number = 36\n",
    "txt = f'This is  {number}' \n",
    "print(txt)"
   ]
  },
  {
   "cell_type": "code",
   "execution_count": 8,
   "metadata": {},
   "outputs": [
    {
     "name": "stdout",
     "output_type": "stream",
     "text": [
      " the price is 59.00\n"
     ]
    }
   ],
   "source": [
    "# a place holder can include a modifies to format a value. \n",
    "\n",
    "# a modifier is included by adding a colon : followed by a legal formatting type, like .2f which means fixed point number with 2 decimals.\n",
    "\n",
    "price = 59\n",
    "txt = f\" the price is {price:.2f}\" \n",
    "print(txt)"
   ]
  },
  {
   "cell_type": "code",
   "execution_count": 13,
   "metadata": {},
   "outputs": [
    {
     "name": "stdout",
     "output_type": "stream",
     "text": [
      "the price is 1180.00 dollars\n",
      "the price is 1180 rupees\n"
     ]
    }
   ],
   "source": [
    "txt  = f\"the price is {20*59:.2f} dollars\"\n",
    "bc = f\"the price is {20*59} rupees\"\n",
    "print(txt)\n",
    "print(bc)"
   ]
  },
  {
   "cell_type": "code",
   "execution_count": 14,
   "metadata": {},
   "outputs": [
    {
     "name": "stdout",
     "output_type": "stream",
     "text": [
      "Hyderabad is  12 KM\n"
     ]
    }
   ],
   "source": [
    "# we can also use another type to combine two different datatypes. \n",
    "\n",
    "# simply by separatin comma , \n",
    "\n",
    "place = 'Hyderabad'\n",
    "print(place, 'is ', 12, 'KM')"
   ]
  }
 ],
 "metadata": {
  "kernelspec": {
   "display_name": "Python 3",
   "language": "python",
   "name": "python3"
  },
  "language_info": {
   "codemirror_mode": {
    "name": "ipython",
    "version": 3
   },
   "file_extension": ".py",
   "mimetype": "text/x-python",
   "name": "python",
   "nbconvert_exporter": "python",
   "pygments_lexer": "ipython3",
   "version": "3.12.3"
  }
 },
 "nbformat": 4,
 "nbformat_minor": 2
}
