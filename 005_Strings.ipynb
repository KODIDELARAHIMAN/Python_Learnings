{
 "cells": [
  {
   "cell_type": "code",
   "execution_count": 2,
   "metadata": {},
   "outputs": [
    {
     "data": {
      "text/plain": [
       "'hello'"
      ]
     },
     "execution_count": 2,
     "metadata": {},
     "output_type": "execute_result"
    }
   ],
   "source": [
    "'hello'#string"
   ]
  },
  {
   "cell_type": "code",
   "execution_count": 3,
   "metadata": {},
   "outputs": [
    {
     "data": {
      "text/plain": [
       "'Hello'"
      ]
     },
     "execution_count": 3,
     "metadata": {},
     "output_type": "execute_result"
    }
   ],
   "source": [
    "\"Hello\" #string"
   ]
  },
  {
   "cell_type": "code",
   "execution_count": 4,
   "metadata": {},
   "outputs": [
    {
     "name": "stdout",
     "output_type": "stream",
     "text": [
      "It's alriht\n",
      "He is called 'Jhonny\n",
      "he said, \"I am okay\"\n"
     ]
    }
   ],
   "source": [
    "#you can use quotes inside a string, as long as they don't match the quotes surrounding the string\n",
    "\n",
    "print(\"It's alriht\")\n",
    "print(\"He is called 'Jhonny\")\n",
    "print('he said, \"I am okay\"')"
   ]
  },
  {
   "cell_type": "code",
   "execution_count": 5,
   "metadata": {},
   "outputs": [
    {
     "name": "stdout",
     "output_type": "stream",
     "text": [
      "Hello\n"
     ]
    }
   ],
   "source": [
    "### assigning string to a variable\n",
    "a = 'Hello'\n",
    "print(a)"
   ]
  },
  {
   "cell_type": "code",
   "execution_count": null,
   "metadata": {},
   "outputs": [
    {
     "name": "stdout",
     "output_type": "stream",
     "text": [
      "Founded in 1761. Faber -Castell is one of the world's oldest industrial\n",
      "companies and is now in the hands of eight generation of the same family. Today it is represented in more than 120\n"
     ]
    }
   ],
   "source": [
    "b = '''Founded in 1761. Faber -Castell is one of the world's oldest industrial\n",
    "companies and is now in the hands of eight generation of the same family. Today it is represented in more than 120'''\n",
    "print(b) # in result the line breaks are inserted at the same position as in the code."
   ]
  },
  {
   "cell_type": "code",
   "execution_count": 10,
   "metadata": {},
   "outputs": [
    {
     "name": "stdout",
     "output_type": "stream",
     "text": [
      "l\n"
     ]
    }
   ],
   "source": [
    "####  Strings are arrays\n",
    "#Like many other programming languages, strings in python are arrays of bytes representing unicode. \n",
    "#python does not have a charater datatype, a single character is simply a string with lenght 1.as_integer_ratio\n",
    "# square brackets can be used to access elements of strings. \n",
    "\n",
    "\n",
    "a = 'Hello World'\n",
    "print(a[2])"
   ]
  },
  {
   "cell_type": "code",
   "execution_count": 12,
   "metadata": {},
   "outputs": [
    {
     "name": "stdout",
     "output_type": "stream",
     "text": [
      "F\n",
      "A\n",
      "B\n",
      "E\n",
      "R\n"
     ]
    }
   ],
   "source": [
    "### looping a string... you will learn more about loops in upcoming chapter. \n",
    "a = 'FABER'\n",
    "for i in a:\n",
    "    print(i)"
   ]
  },
  {
   "cell_type": "code",
   "execution_count": 15,
   "metadata": {},
   "outputs": [
    {
     "name": "stdout",
     "output_type": "stream",
     "text": [
      "The length of  SPRITE  is  6\n"
     ]
    }
   ],
   "source": [
    "## to check lenght of string. \n",
    "\n",
    "i = 'SPRITE'\n",
    "print(\"The length of \",i,' is ',len(i))  #len() is function that used to check legth of value"
   ]
  },
  {
   "cell_type": "code",
   "execution_count": 17,
   "metadata": {},
   "outputs": [
    {
     "name": "stdout",
     "output_type": "stream",
     "text": [
      "True\n"
     ]
    }
   ],
   "source": [
    "# to check certain varaible is exists in string \n",
    "\n",
    "Bahubali = ['Prabhas','Rana','Anushka','Thamannah','Ramya Krishna','Nazer','Sathya Raj']\n",
    "print(\"Nazer\" in Bahubali)  # in is used to check bool statements"
   ]
  },
  {
   "cell_type": "code",
   "execution_count": 20,
   "metadata": {},
   "outputs": [
    {
     "name": "stdout",
     "output_type": "stream",
     "text": [
      "True\n"
     ]
    }
   ],
   "source": [
    "#checking with out in:\n",
    "RRR = ['Ram Charan','Rajamouli','Rama Rao']\n",
    "if RRR[1] == 'Rajamouli':\n",
    "    print('True')"
   ]
  },
  {
   "cell_type": "code",
   "execution_count": 24,
   "metadata": {},
   "outputs": [
    {
     "name": "stdout",
     "output_type": "stream",
     "text": [
      "False\n"
     ]
    }
   ],
   "source": [
    "## checking NOT keyword \n",
    "\n",
    "Robo = ('Rajini Kanth','Aishwarya Rai')\n",
    "print('Rajini Kanth' not in Robo) #### not in is a keyword used to check bool outputs. "
   ]
  },
  {
   "cell_type": "code",
   "execution_count": null,
   "metadata": {},
   "outputs": [],
   "source": []
  }
 ],
 "metadata": {
  "kernelspec": {
   "display_name": "Python 3",
   "language": "python",
   "name": "python3"
  },
  "language_info": {
   "codemirror_mode": {
    "name": "ipython",
    "version": 3
   },
   "file_extension": ".py",
   "mimetype": "text/x-python",
   "name": "python",
   "nbconvert_exporter": "python",
   "pygments_lexer": "ipython3",
   "version": "3.12.3"
  }
 },
 "nbformat": 4,
 "nbformat_minor": 2
}
