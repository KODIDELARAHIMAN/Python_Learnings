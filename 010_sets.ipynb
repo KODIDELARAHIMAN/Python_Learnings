{
 "cells": [
  {
   "cell_type": "code",
   "execution_count": 2,
   "metadata": {},
   "outputs": [
    {
     "name": "stdout",
     "output_type": "stream",
     "text": [
      "{'banana', 'cherry', 'apple'}\n"
     ]
    }
   ],
   "source": [
    "#### SETS\n",
    "\n",
    "myset = {\"apple\",\"banana\",\"cherry\"}\n",
    "print(myset)"
   ]
  },
  {
   "cell_type": "code",
   "execution_count": 5,
   "metadata": {},
   "outputs": [
    {
     "name": "stdout",
     "output_type": "stream",
     "text": [
      "{'ant', 'bear', 'Cat'}\n"
     ]
    }
   ],
   "source": [
    "#SET  \n",
    "\n",
    "# a set is collection of unorderd, unchanebale and unindexed.\n",
    "# sets items are unchangeable but we can remove and add new items.\n",
    "# dulicate values are not allowed\n",
    "# represened in curly brackets\n",
    "\n",
    "\n",
    "set2 = {\"ant\",\"bear\",\"Cat\",\"ant\"} #second item wont be treated/considered to print. since it is duplicate value. \n",
    "print(set2)\n"
   ]
  },
  {
   "cell_type": "code",
   "execution_count": 7,
   "metadata": {},
   "outputs": [
    {
     "name": "stdout",
     "output_type": "stream",
     "text": [
      "{True, 'cherry', 2, 'apple'}\n"
     ]
    }
   ],
   "source": [
    "# in set true and 1 are considered to be same values. and wont allow duplicated value. \n",
    "\n",
    "set3 = {\"apple\",True,\"cherry\",1,2}\n",
    "print(set3)"
   ]
  },
  {
   "cell_type": "code",
   "execution_count": null,
   "metadata": {},
   "outputs": [
    {
     "name": "stdout",
     "output_type": "stream",
     "text": [
      "{0, 'Ram', 'Rahim'}\n"
     ]
    }
   ],
   "source": [
    "# false and 0 are treated as same values\n",
    "\n",
    "set4 = {0,\"Ram\",\"Rahim\",False}\n",
    "print(set4)"
   ]
  }
 ],
 "metadata": {
  "kernelspec": {
   "display_name": "Python 3",
   "language": "python",
   "name": "python3"
  },
  "language_info": {
   "codemirror_mode": {
    "name": "ipython",
    "version": 3
   },
   "file_extension": ".py",
   "mimetype": "text/x-python",
   "name": "python",
   "nbconvert_exporter": "python",
   "pygments_lexer": "ipython3",
   "version": "3.12.3"
  }
 },
 "nbformat": 4,
 "nbformat_minor": 2
}
