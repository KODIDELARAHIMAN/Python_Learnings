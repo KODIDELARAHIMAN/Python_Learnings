{
 "cells": [
  {
   "cell_type": "code",
   "execution_count": 5,
   "metadata": {},
   "outputs": [
    {
     "name": "stdout",
     "output_type": "stream",
     "text": [
      "4\n",
      "['grapes', 'watermelon', 'papaya', 'mango']\n"
     ]
    }
   ],
   "source": [
    "# for loop is used mostly to iterate a sequence of list, tuple, dictoaries , string, sets\n",
    "\n",
    "fruits = ['grapes','watermelon','papaya','mango']\n",
    "print(len(fruits))\n",
    "print(fruits)"
   ]
  },
  {
   "cell_type": "code",
   "execution_count": 7,
   "metadata": {},
   "outputs": [
    {
     "name": "stdout",
     "output_type": "stream",
     "text": [
      "grapes\n",
      "watermelon\n",
      "papaya\n",
      "mango\n"
     ]
    }
   ],
   "source": [
    "for i in fruits:\n",
    "    print(i)"
   ]
  },
  {
   "cell_type": "code",
   "execution_count": 9,
   "metadata": {},
   "outputs": [
    {
     "name": "stdout",
     "output_type": "stream",
     "text": [
      "w\n",
      "a\n",
      "t\n",
      "e\n",
      "r\n",
      "m\n",
      "e\n",
      "l\n",
      "o\n",
      "n\n"
     ]
    }
   ],
   "source": [
    "#looping trough string\n",
    "\n",
    "for i in \"watermelon\":\n",
    "    print(i)"
   ]
  },
  {
   "cell_type": "code",
   "execution_count": 11,
   "metadata": {},
   "outputs": [
    {
     "name": "stdout",
     "output_type": "stream",
     "text": [
      "grapes\n"
     ]
    }
   ],
   "source": [
    "# breka statement\n",
    "\n",
    "for x in fruits:\n",
    "    if x == 'watermelon':\n",
    "        break\n",
    "    print(x)"
   ]
  },
  {
   "cell_type": "code",
   "execution_count": 13,
   "metadata": {},
   "outputs": [
    {
     "name": "stdout",
     "output_type": "stream",
     "text": [
      "G\n",
      "r\n",
      "a\n",
      "e\n",
      "s\n"
     ]
    }
   ],
   "source": [
    "#continue\n",
    "\n",
    "for x in \"Grapes\":\n",
    "    if x == 'p':\n",
    "        continue\n",
    "    print(x)"
   ]
  },
  {
   "cell_type": "code",
   "execution_count": 31,
   "metadata": {},
   "outputs": [
    {
     "name": "stdout",
     "output_type": "stream",
     "text": [
      "0\n",
      "1\n",
      "2\n",
      "3\n",
      "4\n",
      "5\n",
      "6\n",
      "7\n",
      "8\n",
      "9\n",
      "\n",
      " \n",
      "\n",
      "2\n",
      "3\n",
      "4\n",
      "5\n",
      "\n",
      " \n",
      "\n",
      "2\n",
      "5\n",
      "8\n",
      "11\n",
      "14\n"
     ]
    }
   ],
   "source": [
    "for i in range(10):\n",
    "    print(i)\n",
    "\n",
    "\n",
    "print('\\n','\\n')\n",
    "\n",
    "for i in range(2,6): #range starts by leaving 2nd index and ends at 6th index\n",
    "    print(i)\n",
    "\n",
    "print('\\n','\\n')\n",
    "\n",
    "for x in range(2,15,3): \n",
    "    print(x)"
   ]
  },
  {
   "cell_type": "code",
   "execution_count": null,
   "metadata": {},
   "outputs": [
    {
     "name": "stdout",
     "output_type": "stream",
     "text": [
      "1\n",
      "2\n",
      "3\n",
      "4\n",
      "Done\n"
     ]
    }
   ],
   "source": [
    "#else in for loop\n",
    "\n",
    "# below code wil ask prompt to enter range\n",
    "# usaully in for loop range uses index methodolgy.\n",
    "# which means if you want to print range of 4 it starts count from 0, 1, 2, 3 which counts it as four indexes\n",
    "# i dont wnat it to be prited like 0,1,2,3 and i want like 1,2,3,4\n",
    "\n",
    "y = int(input()) #pompts y \n",
    "if y == 4: #condition matching\n",
    "    y += 1 #incement \n",
    "\n",
    "for x in range(y): #incement value of y will be considered in range\n",
    "    if x == 0: #skips 0 as we used continue\n",
    "        continue\n",
    "    print(x)\n",
    "else:\n",
    "    print(\"Done\")"
   ]
  },
  {
   "cell_type": "code",
   "execution_count": 11,
   "metadata": {},
   "outputs": [
    {
     "name": "stdout",
     "output_type": "stream",
     "text": [
      "0\n",
      "1\n",
      "2\n"
     ]
    }
   ],
   "source": [
    "for x in range(5):\n",
    "    if x == 3: \n",
    "        break\n",
    "    print(x)\n",
    "else:\n",
    "    print('Done')"
   ]
  },
  {
   "cell_type": "code",
   "execution_count": 13,
   "metadata": {},
   "outputs": [
    {
     "name": "stdout",
     "output_type": "stream",
     "text": [
      "red apple\n",
      "red banana\n",
      "red cherry\n",
      "big apple\n",
      "big banana\n",
      "big cherry\n",
      "tasty apple\n",
      "tasty banana\n",
      "tasty cherry\n"
     ]
    }
   ],
   "source": [
    "# nested loop\n",
    "\n",
    "adj = ['red','big','tasty']\n",
    "fruits = ['apple','banana','cherry']\n",
    "\n",
    "for x in adj:\n",
    "    for y in fruits:\n",
    "        print(x,y)"
   ]
  },
  {
   "cell_type": "code",
   "execution_count": 15,
   "metadata": {},
   "outputs": [],
   "source": [
    "# pass statement \n",
    "# \n",
    "# For loop connot be empty\n",
    "\n",
    "for i in range(4):\n",
    "    pass"
   ]
  }
 ],
 "metadata": {
  "kernelspec": {
   "display_name": "Python 3",
   "language": "python",
   "name": "python3"
  },
  "language_info": {
   "codemirror_mode": {
    "name": "ipython",
    "version": 3
   },
   "file_extension": ".py",
   "mimetype": "text/x-python",
   "name": "python",
   "nbconvert_exporter": "python",
   "pygments_lexer": "ipython3",
   "version": "3.12.3"
  }
 },
 "nbformat": 4,
 "nbformat_minor": 2
}
