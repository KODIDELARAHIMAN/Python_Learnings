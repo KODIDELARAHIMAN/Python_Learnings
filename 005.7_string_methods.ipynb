{
 "cells": [
  {
   "cell_type": "code",
   "execution_count": 3,
   "metadata": {},
   "outputs": [
    {
     "name": "stdout",
     "output_type": "stream",
     "text": [
      "Bahubali\n",
      "pushpa\n",
      "pushpa\n"
     ]
    }
   ],
   "source": [
    "### string has some built in methods \n",
    "\n",
    "##let try it out\n",
    "\n",
    "a = 'bahubali'\n",
    "print(a.capitalize()) #converts the first character to upper case\n",
    "\n",
    "b = 'PUSHPA'\n",
    "print(b.casefold())  # converts lowercase \n",
    "print(b.lower())  #converts lowercase"
   ]
  },
  {
   "cell_type": "code",
   "execution_count": 11,
   "metadata": {},
   "outputs": [
    {
     "name": "stdout",
     "output_type": "stream",
     "text": [
      "3\n"
     ]
    }
   ],
   "source": [
    "c = 'RRR'\n",
    "print(c.count('R')) #counts number of times a specified occurs in string"
   ]
  },
  {
   "cell_type": "code",
   "execution_count": 1,
   "metadata": {},
   "outputs": [
    {
     "name": "stdout",
     "output_type": "stream",
     "text": [
      "1\n",
      "['Jagadeka Veerudu']\n",
      "['FABER ', ' PENCIL']\n",
      "['', '-Z']\n"
     ]
    }
   ],
   "source": [
    "d = 'KGF-2'\n",
    "print(d.index('G'))  # provides index number of G\n",
    "\n",
    "e = 'Jagadeka Veerudu'\n",
    "print(e.split(',')) \n",
    "\n",
    "f = 'FABER CASTELL PENCIL'\n",
    "print(f.split('CASTELL'))\n",
    "\n",
    "g = 'A-Z'\n",
    "print(g.split('A'))"
   ]
  },
  {
   "cell_type": "code",
   "execution_count": null,
   "metadata": {},
   "outputs": [],
   "source": [
    "##check more strings on web"
   ]
  }
 ],
 "metadata": {
  "kernelspec": {
   "display_name": "Python 3",
   "language": "python",
   "name": "python3"
  },
  "language_info": {
   "codemirror_mode": {
    "name": "ipython",
    "version": 3
   },
   "file_extension": ".py",
   "mimetype": "text/x-python",
   "name": "python",
   "nbconvert_exporter": "python",
   "pygments_lexer": "ipython3",
   "version": "3.12.3"
  }
 },
 "nbformat": 4,
 "nbformat_minor": 2
}
