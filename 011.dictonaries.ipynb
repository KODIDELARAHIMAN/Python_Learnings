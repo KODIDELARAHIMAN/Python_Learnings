{
 "cells": [
  {
   "cell_type": "code",
   "execution_count": 2,
   "metadata": {},
   "outputs": [
    {
     "name": "stdout",
     "output_type": "stream",
     "text": [
      "{'Movie': 'Bahubali', 'Screennplay & Director': 'S.S.Rajamouli', 'Story': 'V.Vijayendra Prasad', 'Music': 'M.M.Keeravani'}\n"
     ]
    }
   ],
   "source": [
    "Bahubali_Crew = {\"Movie\":\"Bahubali\", \"Screennplay & Director\":\"S.S.Rajamouli\",\"Story\":\"V.Vijayendra Prasad\",\"Music\":\"M.M.Keeravani\"}\n",
    "print(Bahubali_Crew)"
   ]
  },
  {
   "cell_type": "code",
   "execution_count": 6,
   "metadata": {},
   "outputs": [
    {
     "name": "stdout",
     "output_type": "stream",
     "text": [
      "Movie : Bahubali\n",
      "Screennplay & Director : S.S.Rajamouli\n",
      "Story : V.Vijayendra Prasad\n",
      "Music : M.M.Keeravani\n"
     ]
    }
   ],
   "source": [
    "for i,j in Bahubali_Crew.items():  #i is treated to keys whereas j is treated to values\n",
    "    print(i,\":\",j )"
   ]
  },
  {
   "cell_type": "code",
   "execution_count": 10,
   "metadata": {},
   "outputs": [
    {
     "name": "stdout",
     "output_type": "stream",
     "text": [
      "{'Bahubali': 'Prabhas', 'Shivudu': 'Prabhas', 'Balladeva': 'Rana', 'Sivagaami': 'RamyaKrishna', 'Devasena': 'Anushka', 'Bijjaladeva': 'Nassar', 'Kattappa': 'Satyaraj', 'Avantika': 'Tammannah'}\n",
      "\n",
      " \n",
      "\n",
      "Bahubali : Prabhas\n",
      "Shivudu : Prabhas\n",
      "Balladeva : Rana\n",
      "Sivagaami : RamyaKrishna\n",
      "Devasena : Anushka\n",
      "Bijjaladeva : Nassar\n",
      "Kattappa : Satyaraj\n",
      "Avantika : Tammannah\n"
     ]
    }
   ],
   "source": [
    "#from python3.7 dictionaries are ordered. earlier dictionaries are unordered.\n",
    "\n",
    "Bahubali_Cast = {\n",
    "    \"Bahubali\":\"Prabhas\",\n",
    "    \"Shivudu\":\"Prabhas\",\n",
    "    \"Balladeva\":\"Rana\",\n",
    "    \"Sivagaami\":\"RamyaKrishna\",\n",
    "    \"Devasena\":\"Anushka\",\n",
    "    \"Bijjaladeva\":\"Nassar\",\n",
    "    \"Kattappa\":\"Satyaraj\",\n",
    "    \"Avantika\":\"Tammannah\"\n",
    "}\n",
    "print(Bahubali_Cast)\n",
    "\n",
    "print(\"\\n\",\"\\n\")\n",
    "\n",
    "for x,y in Bahubali_Cast.items():\n",
    "    print(x,\":\",y)"
   ]
  },
  {
   "cell_type": "code",
   "execution_count": 17,
   "metadata": {},
   "outputs": [
    {
     "name": "stdout",
     "output_type": "stream",
     "text": [
      "{'num1': 1, 'num2': 2, 'num3': 3, 'num5': 5, 'num4': 4}\n",
      "M.M.Keeravani\n"
     ]
    }
   ],
   "source": [
    "dictnum = {\n",
    "    \"num1\":1,\n",
    "    \"num2\":2,\n",
    "    \"num3\":3,\n",
    "    \"num5\":5,\n",
    "    \"num4\":4\n",
    "}\n",
    "print(dictnum)\n",
    "\n",
    "#ordered means not in order... python can be refered using an index where earlier it was not used to refer.\n",
    "\n",
    "print(Bahubali_Crew[\"Music\"])"
   ]
  },
  {
   "cell_type": "code",
   "execution_count": 18,
   "metadata": {},
   "outputs": [
    {
     "name": "stdout",
     "output_type": "stream",
     "text": [
      "{'Brand': 'Ford', 'electric': False, 'year': 2025}\n"
     ]
    }
   ],
   "source": [
    "# in dictorary duplicate values will overwrite existing values. \n",
    "\n",
    "dict2 = {\n",
    "    \"Brand\":\"Ford\",\n",
    "    \"electric\":False,\n",
    "    \"year\":1964,\n",
    "    \"year\": 2025\n",
    "}\n",
    "\n",
    "print(dict2)"
   ]
  }
 ],
 "metadata": {
  "kernelspec": {
   "display_name": "Python 3",
   "language": "python",
   "name": "python3"
  },
  "language_info": {
   "codemirror_mode": {
    "name": "ipython",
    "version": 3
   },
   "file_extension": ".py",
   "mimetype": "text/x-python",
   "name": "python",
   "nbconvert_exporter": "python",
   "pygments_lexer": "ipython3",
   "version": "3.12.3"
  }
 },
 "nbformat": 4,
 "nbformat_minor": 2
}
