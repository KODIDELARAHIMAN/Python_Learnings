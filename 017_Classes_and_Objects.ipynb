{
 "cells": [
  {
   "cell_type": "code",
   "execution_count": 1,
   "metadata": {},
   "outputs": [],
   "source": [
    "#python classes and objects\n",
    "\n",
    "#python is an object oriented programming language.\n",
    "\n",
    "# A class is like an object constructor or blueprint for creating objects.\n",
    "\n",
    "#Creating a class.\n",
    "\n",
    "#To create a class use keyword class\n",
    "\n",
    "class Car:\n",
    "    wheels = 4"
   ]
  },
  {
   "cell_type": "code",
   "execution_count": 5,
   "metadata": {},
   "outputs": [
    {
     "name": "stdout",
     "output_type": "stream",
     "text": [
      "4\n"
     ]
    }
   ],
   "source": [
    "#Create a object\n",
    "\n",
    "o1 = Car()   #o is an object named as o1 and it is calling class Car as Car()\n",
    "print(o1.wheels) #using objects we can print class items."
   ]
  },
  {
   "cell_type": "code",
   "execution_count": 7,
   "metadata": {},
   "outputs": [
    {
     "name": "stdout",
     "output_type": "stream",
     "text": [
      "John\n",
      "25\n"
     ]
    }
   ],
   "source": [
    "#__init__() function\n",
    "\n",
    "# all classes must have a function called __init__() which is always executed when class is being initiated. \n",
    "\n",
    "#use the __init__() function to assign values to object properities, or other operations that are necessary to do when the object is being created. \n",
    "\n",
    "\n",
    "class person:\n",
    "    def __init__(self, name, age):\n",
    "        self.name = name\n",
    "        self.age = age\n",
    "\n",
    "p1 = person(\"John\",25) \n",
    "print(p1.name)\n",
    "print(p1.age)"
   ]
  },
  {
   "cell_type": "code",
   "execution_count": 9,
   "metadata": {},
   "outputs": [
    {
     "name": "stdout",
     "output_type": "stream",
     "text": [
      "<__main__.person object at 0x000002DD3F162DB0>\n"
     ]
    }
   ],
   "source": [
    "# __str__() function\n",
    "\n",
    "# __str__() control what should be returned when the class object is represented as a string.\n",
    "\n",
    "#__str__() function is not set, the string representation of the object is returned\n",
    "\n",
    "class person:\n",
    "    def __init__(self, name, age):\n",
    "        self.name = name\n",
    "        self.age = age\n",
    "\n",
    "p1 = person(\"John\",25)\n",
    "print(p1) # this prints the object adress "
   ]
  },
  {
   "cell_type": "code",
   "execution_count": 16,
   "metadata": {},
   "outputs": [
    {
     "name": "stdout",
     "output_type": "stream",
     "text": [
      "John(26)\n"
     ]
    }
   ],
   "source": [
    "class person:\n",
    "    def __init__(self, name, age):\n",
    "        self.name = name\n",
    "        self.age = age\n",
    "\n",
    "    def __str__(self):\n",
    "       return f\"{self.name}({self.age})\"\n",
    "    \n",
    "p1 = person(\"John\", 26)\n",
    "print(p1)"
   ]
  },
  {
   "cell_type": "code",
   "execution_count": 18,
   "metadata": {},
   "outputs": [
    {
     "name": "stdout",
     "output_type": "stream",
     "text": [
      "Hello my name is  John\n"
     ]
    }
   ],
   "source": [
    "#Object methods\n",
    "\n",
    "#Object can also contain methods. method in object are function that belong to the object.mro\n",
    "\n",
    "class Person:\n",
    "    def __init__(self, name, age):\n",
    "        self.name = name \n",
    "        self.age = age\n",
    "\n",
    "    def myfun1(self):\n",
    "        print(\"Hello my name is \", self.name)\n",
    "\n",
    "p1 = Person('John', 25)\n",
    "p1.myfun1() # object can call method which is function of class using this syntax\n"
   ]
  },
  {
   "cell_type": "code",
   "execution_count": 24,
   "metadata": {},
   "outputs": [
    {
     "name": "stdout",
     "output_type": "stream",
     "text": [
      "Hello my name is  John\n"
     ]
    }
   ],
   "source": [
    "# self parameter \n",
    "\n",
    "# the self parameter is a reference to the current instance of class and is used to access variable that belong to class.\n",
    "\n",
    "# it does not have to be named self. you can call it whatever you like, but it has to be the first arameter of any function in the class. \n",
    "\n",
    "\n",
    "class person:\n",
    "    def __init__(s, name, age):\n",
    "        s.name = name\n",
    "        s.age = age\n",
    "\n",
    "    def fun2(ab):\n",
    "        print(\"Hello my name is \", ab.name)\n",
    "\n",
    "p1 = person('John',26)\n",
    "p1.fun2()"
   ]
  },
  {
   "cell_type": "code",
   "execution_count": 27,
   "metadata": {},
   "outputs": [
    {
     "name": "stdout",
     "output_type": "stream",
     "text": [
      "40\n",
      "40\n"
     ]
    }
   ],
   "source": [
    "#modify object parameter \n",
    "print(p1.age)\n",
    "p1.age = 40\n",
    "print(p1.age)\n"
   ]
  },
  {
   "cell_type": "code",
   "execution_count": 28,
   "metadata": {},
   "outputs": [],
   "source": [
    "#def objects \n",
    "\n",
    "#del p1"
   ]
  },
  {
   "cell_type": "code",
   "execution_count": 29,
   "metadata": {},
   "outputs": [],
   "source": [
    "#pass statement\n",
    "# class should not empty so we can use word pass where class content not exists\n",
    "class person1:\n",
    "    pass"
   ]
  },
  {
   "cell_type": "code",
   "execution_count": null,
   "metadata": {},
   "outputs": [],
   "source": []
  }
 ],
 "metadata": {
  "kernelspec": {
   "display_name": "Python 3",
   "language": "python",
   "name": "python3"
  },
  "language_info": {
   "codemirror_mode": {
    "name": "ipython",
    "version": 3
   },
   "file_extension": ".py",
   "mimetype": "text/x-python",
   "name": "python",
   "nbconvert_exporter": "python",
   "pygments_lexer": "ipython3",
   "version": "3.12.3"
  }
 },
 "nbformat": 4,
 "nbformat_minor": 2
}
