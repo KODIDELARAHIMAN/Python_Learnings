{
 "cells": [
  {
   "cell_type": "code",
   "execution_count": 33,
   "metadata": {},
   "outputs": [],
   "source": [
    "###VARIABLES"
   ]
  },
  {
   "cell_type": "code",
   "execution_count": 34,
   "metadata": {},
   "outputs": [
    {
     "name": "stdout",
     "output_type": "stream",
     "text": [
      "bottle\n"
     ]
    }
   ],
   "source": [
    "x = 'bottle'\n",
    "print(x)"
   ]
  },
  {
   "cell_type": "code",
   "execution_count": 35,
   "metadata": {},
   "outputs": [
    {
     "name": "stdout",
     "output_type": "stream",
     "text": [
      "Cost of the  bottle  is  12\n"
     ]
    }
   ],
   "source": [
    "print(\"Cost of the \",x, \" is \", 12) #x is variable that hold the value bottle"
   ]
  },
  {
   "cell_type": "code",
   "execution_count": 36,
   "metadata": {},
   "outputs": [
    {
     "name": "stdout",
     "output_type": "stream",
     "text": [
      "12\n"
     ]
    }
   ],
   "source": [
    "##unlike java and other programming languages. python need not to be declared type of variable before declaration of variables. \n",
    "##varaiables can chagne type even after they have been set.\n",
    "x = 12 \n",
    "print(x)"
   ]
  },
  {
   "cell_type": "code",
   "execution_count": 37,
   "metadata": {},
   "outputs": [
    {
     "name": "stdout",
     "output_type": "stream",
     "text": [
      "3\n",
      "3\n",
      "3.0\n"
     ]
    }
   ],
   "source": [
    "###casting\n",
    "### to specify dataype of a variable is called casting\n",
    "x = str(3)\n",
    "y = int(3)\n",
    "z = float(3)\n",
    "print(x)\n",
    "print(y)\n",
    "print(z)"
   ]
  },
  {
   "cell_type": "code",
   "execution_count": 38,
   "metadata": {},
   "outputs": [
    {
     "name": "stdout",
     "output_type": "stream",
     "text": [
      "3 <class 'str'>\n",
      "3 <class 'int'>\n"
     ]
    }
   ],
   "source": [
    "##in above code. x and y output are same but types are different to check that.\n",
    "x = str(3)\n",
    "y = int(3)\n",
    "print(x, type(x)) \n",
    "print(y, type(y))"
   ]
  },
  {
   "cell_type": "code",
   "execution_count": 39,
   "metadata": {},
   "outputs": [
    {
     "name": "stdout",
     "output_type": "stream",
     "text": [
      "5 Silly\n"
     ]
    }
   ],
   "source": [
    "a = 5\n",
    "A = 'Silly'\n",
    "print(a, A)\n",
    "###a and A are two diferent varaible because python is case senstive "
   ]
  },
  {
   "cell_type": "code",
   "execution_count": 40,
   "metadata": {},
   "outputs": [],
   "source": [
    "###variable Names\n",
    "#Variable name must start with a letter or underscore character\n",
    "#a varaibel name cannot start with number\n",
    "#a variable name can only contain alpha-numeric character and underscores (A-z,0-9, and _)\n",
    "#a variable names are case sensitive(age,Age and AGE are different)\n",
    "#a variable name canoot be any python keywords."
   ]
  },
  {
   "cell_type": "code",
   "execution_count": 41,
   "metadata": {},
   "outputs": [],
   "source": [
    "##goog exampls for varaibles\n",
    "myvar = \"John\"\n",
    "my_var=\"John\"\n",
    "_my_var = 'John'\n",
    "myVar = \"John\"\n",
    "MYVAR = 'John'\n",
    "myvar2 = 'John'"
   ]
  },
  {
   "cell_type": "code",
   "execution_count": 42,
   "metadata": {},
   "outputs": [
    {
     "ename": "SyntaxError",
     "evalue": "invalid decimal literal (2506721942.py, line 2)",
     "output_type": "error",
     "traceback": [
      "  \u001b[36mCell\u001b[39m\u001b[36m \u001b[39m\u001b[32mIn[42]\u001b[39m\u001b[32m, line 2\u001b[39m\n\u001b[31m    \u001b[39m\u001b[31m2myvar = 'John'\u001b[39m\n    ^\n\u001b[31mSyntaxError\u001b[39m\u001b[31m:\u001b[39m invalid decimal literal\n"
     ]
    }
   ],
   "source": [
    "##bad examples for varaibles\n",
    "2myvar = 'John'\n",
    "my-var = 'John'\n",
    "my var  = 'John'"
   ]
  },
  {
   "cell_type": "code",
   "execution_count": 15,
   "metadata": {},
   "outputs": [
    {
     "name": "stdout",
     "output_type": "stream",
     "text": [
      "Name\n"
     ]
    }
   ],
   "source": [
    "myVariableName='Name' # CamelCase is a type where each word, except firs, start with capital letter\n",
    "print(myVariableName)"
   ]
  },
  {
   "cell_type": "code",
   "execution_count": 16,
   "metadata": {},
   "outputs": [
    {
     "name": "stdout",
     "output_type": "stream",
     "text": [
      "Name\n"
     ]
    }
   ],
   "source": [
    "#####               PASCAL CASE\n",
    "MyVaraibleName = 'Name'  ###Each word starts with a capital letter\n",
    "print(MyVaraibleName)\n"
   ]
  },
  {
   "cell_type": "code",
   "execution_count": 17,
   "metadata": {},
   "outputs": [
    {
     "name": "stdout",
     "output_type": "stream",
     "text": [
      "Name\n"
     ]
    }
   ],
   "source": [
    "#####               SNAKE CASE\n",
    "my_variable_name = 'Name' ###each word is separated by an underscore character\n",
    "print(my_variable_name)"
   ]
  },
  {
   "cell_type": "code",
   "execution_count": 19,
   "metadata": {},
   "outputs": [
    {
     "name": "stdout",
     "output_type": "stream",
     "text": [
      "Orange\n",
      "banana\n",
      "Cherry\n"
     ]
    }
   ],
   "source": [
    "####    ASSIGING MULTIPLE VARIABLES\n",
    "x,y,z = \"Orange\", \"banana\", 'Cherry'  ###python allows you to assign values to multplie varaible in single line\n",
    "print(x)\n",
    "print(y)\n",
    "print(z)"
   ]
  },
  {
   "cell_type": "code",
   "execution_count": 21,
   "metadata": {},
   "outputs": [
    {
     "name": "stdout",
     "output_type": "stream",
     "text": [
      "PineApple\n",
      "PineApple\n",
      "PineApple\n"
     ]
    }
   ],
   "source": [
    "x = y = z = \"PineApple\"  #### One value to multiple variables , you can assign the same vaue to multiple variables in one line.\n",
    "print(x)\n",
    "print(y)\n",
    "print(z)"
   ]
  },
  {
   "cell_type": "code",
   "execution_count": 22,
   "metadata": {},
   "outputs": [
    {
     "name": "stdout",
     "output_type": "stream",
     "text": [
      "Orange\n",
      "Banana\n",
      "Pineapple\n"
     ]
    }
   ],
   "source": [
    "fruits = [\"Orange\", \"Banana\", \"Pineapple\"]\n",
    "x, y, z = fruits  ###this is called unpacking where we get to more about this in lists and tuples topic. for x = is assigned to Orange, y = banana and z = Pineapple\n",
    "print(x)\n",
    "print(y)\n",
    "print(z)"
   ]
  },
  {
   "cell_type": "code",
   "execution_count": 31,
   "metadata": {},
   "outputs": [
    {
     "name": "stdout",
     "output_type": "stream",
     "text": [
      "1000 Crs film are  ['Dangal', 'Pushpa 2', 'Bahubali 2', 'RRR', 'KGF2', 'Kalki', 'Pathan', 'Jawan']\n",
      "Global Collections of Dangal 2000 Crs above\n"
     ]
    }
   ],
   "source": [
    "#####    GLOBAL VARIABLE    ######\n",
    "x = 'Dangal'\n",
    "\n",
    "def Movies_india():\n",
    "    x = ['Dangal','Pushpa 2','Bahubali 2','RRR','KGF2','Kalki','Pathan','Jawan']\n",
    "    print(\"1000 Crs film are \", x)\n",
    "\n",
    "Movies_india()\n",
    "print(\"Global Collections of \" + x, \"2000 Crs above\")"
   ]
  },
  {
   "cell_type": "code",
   "execution_count": 32,
   "metadata": {},
   "outputs": [
    {
     "name": "stdout",
     "output_type": "stream",
     "text": [
      "Python is  fantastic\n"
     ]
    }
   ],
   "source": [
    "def myfun():\n",
    "    global x   # global is keyword used to define variable globally.\n",
    "    x = 'fantastic'\n",
    "\n",
    "myfun()\n",
    "\n",
    "print(\"Python is \", x)"
   ]
  }
 ],
 "metadata": {
  "kernelspec": {
   "display_name": "Python 3",
   "language": "python",
   "name": "python3"
  },
  "language_info": {
   "codemirror_mode": {
    "name": "ipython",
    "version": 3
   },
   "file_extension": ".py",
   "mimetype": "text/x-python",
   "name": "python",
   "nbconvert_exporter": "python",
   "pygments_lexer": "ipython3",
   "version": "3.12.3"
  }
 },
 "nbformat": 4,
 "nbformat_minor": 2
}
