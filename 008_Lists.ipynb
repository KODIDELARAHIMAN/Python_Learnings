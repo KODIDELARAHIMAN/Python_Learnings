{
 "cells": [
  {
   "cell_type": "code",
   "execution_count": 2,
   "metadata": {},
   "outputs": [
    {
     "name": "stdout",
     "output_type": "stream",
     "text": [
      "['pen', 'pencil', 'eraser']\n",
      "<class 'list'>\n"
     ]
    }
   ],
   "source": [
    "### lists are used to store multiple items in a sinle variable.\n",
    "\n",
    "# lists are created using square brackets\n",
    "\n",
    "list = ['pen','pencil','eraser']\n",
    "print(list)\n",
    "print(type(list))"
   ]
  },
  {
   "cell_type": "code",
   "execution_count": 4,
   "metadata": {},
   "outputs": [
    {
     "name": "stdout",
     "output_type": "stream",
     "text": [
      "['apple', 'banana', 'cherry', 'apple', 'cherry']\n"
     ]
    }
   ],
   "source": [
    "# lists items are odereder, changeable and allow duplicate values\n",
    "\n",
    "# list items are indexed like first index is 0, second index is 1 etc.,\n",
    "\n",
    "### lists are ordered by default as defined. when you add new items. those will placed at the end of list.append\n",
    "\n",
    "# note there are list methods that will change the order, but in genral the order of the items will not chagne.\n",
    "\n",
    "### CHANGEABLE\n",
    "\n",
    "# ths lists are changeable means, we can add, change, remove after created.\n",
    "# lists can have duplicate values too.\n",
    "\n",
    "fruits = ['apple','banana','cherry','apple','cherry']\n",
    "print(fruits)"
   ]
  },
  {
   "cell_type": "code",
   "execution_count": 8,
   "metadata": {},
   "outputs": [
    {
     "name": "stdout",
     "output_type": "stream",
     "text": [
      "5\n"
     ]
    }
   ],
   "source": [
    "# list length \n",
    "\n",
    "print(len(fruits))"
   ]
  },
  {
   "cell_type": "code",
   "execution_count": 10,
   "metadata": {},
   "outputs": [
    {
     "name": "stdout",
     "output_type": "stream",
     "text": [
      "['ball', 'paper', 12, True]\n"
     ]
    }
   ],
   "source": [
    "# a list can contain any data tye\n",
    "\n",
    "items = ['ball','paper', 12, True]\n",
    "print(items)"
   ]
  },
  {
   "cell_type": "code",
   "execution_count": null,
   "metadata": {},
   "outputs": [
    {
     "ename": "TypeError",
     "evalue": "'list' object is not callable",
     "output_type": "error",
     "traceback": [
      "\u001b[31m---------------------------------------------------------------------------\u001b[39m",
      "\u001b[31mTypeError\u001b[39m                                 Traceback (most recent call last)",
      "\u001b[36mCell\u001b[39m\u001b[36m \u001b[39m\u001b[32mIn[15]\u001b[39m\u001b[32m, line 3\u001b[39m\n\u001b[32m      1\u001b[39m \u001b[38;5;66;03m# we can also use list() constructor to create a list\u001b[39;00m\n\u001b[32m----> \u001b[39m\u001b[32m3\u001b[39m Relations = \u001b[38;5;28;43mlist\u001b[39;49m\u001b[43m(\u001b[49m\u001b[43m(\u001b[49m\u001b[33;43m\"\u001b[39;49m\u001b[33;43mFather\u001b[39;49m\u001b[33;43m\"\u001b[39;49m\u001b[43m,\u001b[49m\u001b[33;43m\"\u001b[39;49m\u001b[33;43mmother\u001b[39;49m\u001b[33;43m\"\u001b[39;49m\u001b[43m,\u001b[49m\u001b[33;43m\"\u001b[39;49m\u001b[33;43mson\u001b[39;49m\u001b[33;43m\"\u001b[39;49m\u001b[43m,\u001b[49m\u001b[33;43m\"\u001b[39;49m\u001b[33;43mdaughter\u001b[39;49m\u001b[33;43m\"\u001b[39;49m\u001b[43m,\u001b[49m\u001b[33;43m\"\u001b[39;49m\u001b[33;43maunt\u001b[39;49m\u001b[33;43m\"\u001b[39;49m\u001b[43m,\u001b[49m\u001b[33;43m\"\u001b[39;49m\u001b[33;43muncle\u001b[39;49m\u001b[33;43m\"\u001b[39;49m\u001b[43m)\u001b[49m\u001b[43m)\u001b[49m\n\u001b[32m      4\u001b[39m \u001b[38;5;28mprint\u001b[39m(Relations)\n",
      "\u001b[31mTypeError\u001b[39m: 'list' object is not callable"
     ]
    }
   ],
   "source": [
    "\n",
    "# we can also use list() constructor to create a list\n",
    "\n",
    "Relations = list((\"Father\",\"mother\",\"son\",\"daughter\",\"aunt\",\"uncle\")) # doubt ...... code is workng in command prompt, pycharm  python but in jupyter python not working. \n",
    "print(Relations)"
   ]
  },
  {
   "cell_type": "code",
   "execution_count": 36,
   "metadata": {},
   "outputs": [
    {
     "name": "stdout",
     "output_type": "stream",
     "text": [
      "[2]\n",
      "[2, 'revi']\n",
      "[2]\n",
      "[]\n"
     ]
    }
   ],
   "source": [
    "items.append(2)\n",
    "print(items)\n",
    "\n",
    "items.insert(2,'revi')\n",
    "print(items)\n",
    "\n",
    "items.remove('revi')\n",
    "print(items)\n",
    "\n",
    "items.clear()\n",
    "print(items)"
   ]
  },
  {
   "cell_type": "code",
   "execution_count": 8,
   "metadata": {},
   "outputs": [
    {
     "name": "stdout",
     "output_type": "stream",
     "text": [
      "[23, 'bahubali', 'rrr', 'kgf', 'animal']\n",
      "['Dangal', 'bahubali', 'rrr', 'kgf', 'animal']\n",
      "['Dangal', 'bahubali', 'rrr', 'kgf']\n",
      "[12, 23, 56]\n"
     ]
    }
   ],
   "source": [
    "# lists are collection which ordered and changeable. allows duplicate members\n",
    "\n",
    "## accessng lists using index\n",
    "\n",
    "list = [23,'bahubali','rrr','kgf','animal']\n",
    "print(list)\n",
    "\n",
    "list[0] = 'Dangal'\n",
    "print(list)\n",
    "\n",
    "list.remove('animal')\n",
    "print(list)\n",
    "\n",
    "b = [23,56,12]\n",
    "b.sort()\n",
    "\n",
    "print(b)"
   ]
  },
  {
   "cell_type": "code",
   "execution_count": null,
   "metadata": {},
   "outputs": [],
   "source": [
    "### serach web for more list methods and functions/"
   ]
  }
 ],
 "metadata": {
  "kernelspec": {
   "display_name": "Python 3",
   "language": "python",
   "name": "python3"
  },
  "language_info": {
   "codemirror_mode": {
    "name": "ipython",
    "version": 3
   },
   "file_extension": ".py",
   "mimetype": "text/x-python",
   "name": "python",
   "nbconvert_exporter": "python",
   "pygments_lexer": "ipython3",
   "version": "3.12.3"
  }
 },
 "nbformat": 4,
 "nbformat_minor": 2
}
